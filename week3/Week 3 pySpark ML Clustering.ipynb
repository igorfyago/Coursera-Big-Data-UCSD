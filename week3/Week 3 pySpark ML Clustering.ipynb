{
 "cells": [
  {
   "cell_type": "code",
   "execution_count": 102,
   "metadata": {},
   "outputs": [
    {
     "name": "stdout",
     "output_type": "stream",
     "text": [
      "Spark 2.3.1\n"
     ]
    }
   ],
   "source": [
    "from pyspark.sql import SQLContext\n",
    "from pyspark.ml.clustering import KMeans\n",
    "from pyspark.ml.feature import VectorAssembler\n",
    "from pyspark.ml.feature import StandardScaler\n",
    "\n",
    "import numpy as np\n",
    "import pandas as pd\n",
    "import matplotlib.pyplot as plt\n",
    "from mpl_toolkits.mplot3d import Axes3D\n",
    "\n",
    "%matplotlib inline\n",
    "print('Spark',pyspark.__version__)"
   ]
  },
  {
   "cell_type": "code",
   "execution_count": 103,
   "metadata": {},
   "outputs": [],
   "source": [
    "from pyspark.sql import SparkSession\n",
    "\n",
    "spark = SparkSession \\\n",
    "    .builder \\\n",
    "    .appName(\"Python Spark SQL basic example\") \\\n",
    "    .config(\"spark.some.config.option\", \"some-value\") \\\n",
    "    .getOrCreate()"
   ]
  },
  {
   "cell_type": "code",
   "execution_count": 104,
   "metadata": {},
   "outputs": [],
   "source": [
    "data = spark.read.format(\"csv\").option(\"header\", \"true\").load(\"./w3_clustering.csv\")"
   ]
  },
  {
   "cell_type": "code",
   "execution_count": 105,
   "metadata": {},
   "outputs": [],
   "source": [
    "data = data.select(data.totalAdClicks.cast(\"float\"),data.revenue.cast(\"float\"))"
   ]
  },
  {
   "cell_type": "code",
   "execution_count": 106,
   "metadata": {
    "scrolled": true
   },
   "outputs": [
    {
     "name": "stdout",
     "output_type": "stream",
     "text": [
      "root\n",
      " |-- totalAdClicks: float (nullable = true)\n",
      " |-- revenue: float (nullable = true)\n",
      "\n"
     ]
    }
   ],
   "source": [
    "data.printSchema()"
   ]
  },
  {
   "cell_type": "code",
   "execution_count": 107,
   "metadata": {},
   "outputs": [
    {
     "data": {
      "text/plain": [
       "709"
      ]
     },
     "execution_count": 107,
     "metadata": {},
     "output_type": "execute_result"
    }
   ],
   "source": [
    "data.count()"
   ]
  },
  {
   "cell_type": "code",
   "execution_count": 89,
   "metadata": {},
   "outputs": [
    {
     "data": {
      "text/plain": [
       "DataFrame[totalAdClicks: float, revenue: float]"
      ]
     },
     "execution_count": 89,
     "metadata": {},
     "output_type": "execute_result"
    }
   ],
   "source": [
    "data"
   ]
  },
  {
   "cell_type": "code",
   "execution_count": 90,
   "metadata": {},
   "outputs": [
    {
     "data": {
      "text/html": [
       "<div>\n",
       "<style scoped>\n",
       "    .dataframe tbody tr th:only-of-type {\n",
       "        vertical-align: middle;\n",
       "    }\n",
       "\n",
       "    .dataframe tbody tr th {\n",
       "        vertical-align: top;\n",
       "    }\n",
       "\n",
       "    .dataframe thead th {\n",
       "        text-align: right;\n",
       "    }\n",
       "</style>\n",
       "<table border=\"1\" class=\"dataframe\">\n",
       "  <thead>\n",
       "    <tr style=\"text-align: right;\">\n",
       "      <th></th>\n",
       "      <th>0</th>\n",
       "      <th>1</th>\n",
       "      <th>2</th>\n",
       "      <th>3</th>\n",
       "      <th>4</th>\n",
       "    </tr>\n",
       "  </thead>\n",
       "  <tbody>\n",
       "    <tr>\n",
       "      <th>summary</th>\n",
       "      <td>count</td>\n",
       "      <td>mean</td>\n",
       "      <td>stddev</td>\n",
       "      <td>min</td>\n",
       "      <td>max</td>\n",
       "    </tr>\n",
       "    <tr>\n",
       "      <th>totalAdClicks</th>\n",
       "      <td>709</td>\n",
       "      <td>32.208744710860366</td>\n",
       "      <td>16.384120817042554</td>\n",
       "      <td>1.0</td>\n",
       "      <td>73.0</td>\n",
       "    </tr>\n",
       "    <tr>\n",
       "      <th>revenue</th>\n",
       "      <td>709</td>\n",
       "      <td>44.64880112834979</td>\n",
       "      <td>44.944528765285284</td>\n",
       "      <td>1.0</td>\n",
       "      <td>278.0</td>\n",
       "    </tr>\n",
       "  </tbody>\n",
       "</table>\n",
       "</div>"
      ],
      "text/plain": [
       "                   0                   1                   2    3      4\n",
       "summary        count                mean              stddev  min    max\n",
       "totalAdClicks    709  32.208744710860366  16.384120817042554  1.0   73.0\n",
       "revenue          709   44.64880112834979  44.944528765285284  1.0  278.0"
      ]
     },
     "execution_count": 90,
     "metadata": {},
     "output_type": "execute_result"
    }
   ],
   "source": [
    "data.describe().toPandas().transpose()"
   ]
  },
  {
   "cell_type": "code",
   "execution_count": 91,
   "metadata": {},
   "outputs": [],
   "source": [
    "data = data.na.drop()"
   ]
  },
  {
   "cell_type": "code",
   "execution_count": 92,
   "metadata": {},
   "outputs": [
    {
     "data": {
      "text/plain": [
       "['totalAdClicks', 'revenue']"
      ]
     },
     "execution_count": 92,
     "metadata": {},
     "output_type": "execute_result"
    }
   ],
   "source": [
    "data.columns"
   ]
  },
  {
   "cell_type": "markdown",
   "metadata": {},
   "source": [
    "<br><br>\n",
    "\n",
    " \n",
    "<p style=\"font-family: Arial; font-size:1.5em;color:#2462C0; font-style:bold\">\n",
    "\n",
    "Use VectorAssembler to gather all the features:\n",
    "\n",
    "</p>\n",
    "\n",
    " \n",
    "<br><br>"
   ]
  },
  {
   "cell_type": "code",
   "execution_count": 115,
   "metadata": {},
   "outputs": [
    {
     "name": "stdout",
     "output_type": "stream",
     "text": [
      "+-----------------+\n",
      "|features_unscaled|\n",
      "+-----------------+\n",
      "|      [22.0,12.0]|\n",
      "|      [20.0,11.0]|\n",
      "|      [53.0,51.0]|\n",
      "|      [48.0,61.0]|\n",
      "|       [23.0,3.0]|\n",
      "|      [14.0,25.0]|\n",
      "|      [34.0,90.0]|\n",
      "|       [3.0,13.0]|\n",
      "|      [24.0,12.0]|\n",
      "|        [5.0,4.0]|\n",
      "|      [34.0,75.0]|\n",
      "|      [43.0,35.0]|\n",
      "|      [53.0,49.0]|\n",
      "|       [20.0,2.0]|\n",
      "|       [14.0,6.0]|\n",
      "|       [10.0,8.0]|\n",
      "|      [36.0,27.0]|\n",
      "|       [16.0,6.0]|\n",
      "|      [16.0,70.0]|\n",
      "|       [21.0,8.0]|\n",
      "+-----------------+\n",
      "only showing top 20 rows\n",
      "\n"
     ]
    }
   ],
   "source": [
    "vecAssembler = VectorAssembler(inputCols=['totalAdClicks', 'revenue'], outputCol=\"features_unscaled\")\n",
    "df_kmeans = vecAssembler.transform(data).select('features_unscaled')\n",
    "df_kmeans.show()"
   ]
  },
  {
   "cell_type": "markdown",
   "metadata": {},
   "source": [
    "<br><br>\n",
    "\n",
    " \n",
    "<p style=\"font-family: Arial; font-size:1.5em;color:#2462C0; font-style:bold\">\n",
    "\n",
    "Scale the features using StandardScaler:\n",
    "\n",
    "</p>\n",
    "\n",
    " \n",
    "<br><br>"
   ]
  },
  {
   "cell_type": "code",
   "execution_count": 122,
   "metadata": {},
   "outputs": [],
   "source": [
    "scaler = StandardScaler(inputCol=\"features_unscaled\", outputCol=\"features\", withStd=True, withMean=True)\n",
    "scalerModel = scaler.fit(assembled)\n",
    "scaledData = scalerModel.transform(assembled)"
   ]
  },
  {
   "cell_type": "markdown",
   "metadata": {},
   "source": [
    "<br><br>\n",
    "\n",
    " \n",
    "<p style=\"font-family: Arial; font-size:1.5em;color:#2462C0; font-style:bold\">\n",
    "\n",
    "Select the features column make the data persist:\n",
    "\n",
    "</p>\n",
    "\n",
    " \n",
    "<br><br>"
   ]
  },
  {
   "cell_type": "code",
   "execution_count": 123,
   "metadata": {},
   "outputs": [
    {
     "name": "stdout",
     "output_type": "stream",
     "text": [
      "+--------------------+\n",
      "|            features|\n",
      "+--------------------+\n",
      "|[-0.6230877338405...|\n",
      "|[-0.7451571461900...|\n",
      "|[1.26898815757710...|\n",
      "|[0.96381462670329...|\n",
      "|[-0.5620530276657...|\n",
      "|[-1.1113653832386...|\n",
      "|[0.10932874025662...|\n",
      "|[-1.7827471511610...|\n",
      "|[-0.5010183214909...|\n",
      "|[-1.6606777388114...|\n",
      "|[0.10932874025662...|\n",
      "|[0.65864109582948...|\n",
      "|[1.26898815757710...|\n",
      "|[-0.7451571461900...|\n",
      "|[-1.1113653832386...|\n",
      "|[-1.3555042079376...|\n",
      "|[0.23139815260614...|\n",
      "|[-0.9892959708890...|\n",
      "|[-0.9892959708890...|\n",
      "|[-0.6841224400152...|\n",
      "+--------------------+\n",
      "only showing top 20 rows\n",
      "\n"
     ]
    }
   ],
   "source": [
    "scaledData = scaledData.select(\"features\")\n",
    "scaledData.persist()\n",
    "scaledData.show()"
   ]
  },
  {
   "cell_type": "markdown",
   "metadata": {},
   "source": [
    "<br><br>\n",
    "\n",
    " \n",
    "<p style=\"font-family: Arial; font-size:1.5em;color:#2462C0; font-style:bold\">\n",
    "\n",
    "We can now perform KMeans clustering to generate 2 clusters:\n",
    "</p>\n",
    "\n",
    " \n",
    "<br><br>"
   ]
  },
  {
   "cell_type": "code",
   "execution_count": 124,
   "metadata": {},
   "outputs": [],
   "source": [
    "kmeans = KMeans(k=2, seed=1)\n",
    "model = kmeans.fit(scaledData)\n",
    "transformed = model.transform(scaledData)"
   ]
  },
  {
   "cell_type": "markdown",
   "metadata": {},
   "source": [
    "<br><br>\n",
    "\n",
    " \n",
    "<p style=\"font-family: Arial; font-size:1.5em;color:#2462C0; font-style:bold\">\n",
    "\n",
    "Print the center of these two clusters:\n",
    "\n",
    "</p>\n",
    "\n",
    " \n",
    "<br><br>"
   ]
  },
  {
   "cell_type": "code",
   "execution_count": 125,
   "metadata": {},
   "outputs": [
    {
     "data": {
      "text/plain": [
       "[[-0.79780796415399258, -0.49176392408229957],\n",
       " [0.84174521435377381, 0.5188465749737885]]"
      ]
     },
     "execution_count": 125,
     "metadata": {},
     "output_type": "execute_result"
    }
   ],
   "source": [
    "centers = model.clusterCenters()\n",
    "centers2D = [list(i) for i in centers]\n",
    "centers2D"
   ]
  },
  {
   "cell_type": "markdown",
   "metadata": {},
   "source": [
    "<br><br>\n",
    "\n",
    " \n",
    "<p style=\"font-family: Arial; font-size:1.5em;color:#2462C0; font-style:bold\">\n",
    "\n",
    "Analyze center of these two clusters:\n",
    "\n",
    "</p>\n",
    "\n",
    " \n",
    "<br><br>"
   ]
  },
  {
   "cell_type": "markdown",
   "metadata": {},
   "source": [
    "\n",
    "<div style=\"color:black;font-family: Arial; font-size:1.1em;line-height:65%\">\n",
    "\n",
    "<br><br>\n",
    "\n",
    "<p style=\"line-height:31px;\"> First number (field1) in each array refers to scaled verson of the number of ad-clicks and the second number (field2) is the scaled version of the revenue per user.\n",
    "\n",
    "Compare the 1st number of each cluster to see how differently users in each cluster behave when it comes to clicking ads.\n",
    "\n",
    "Compare the 2nd number of each cluster to see how differently users in each cluster behave when it comes to buying stuff. \n",
    "\n",
    "</p><br><br>\n",
    "\n",
    "<p style=\"line-height:31px;\">In one cluster, in general, players click on ads much more often and spend more money on in-app purchases. Assuming that Eglence Inc. gets paid for showing ads and for hosting in-app purchase items, we can use this information to increase game's revenue by increasing the prices for ads we show to the frequent-clickers, and charge higher fees for hosting the in-app purchase items shown to the higher revenue generating buyers.</p>\n",
    "\n",
    "<br><br>\n",
    "<p style=\"line-height:31px;\"> <b> Note: </b>  This analysis requires you to compare the cluster centers and find any ‘significant’ differences in the corresponding feature values of the  centers. The answer to this question will depend on the features you have chosen. <br><br> Some features help distinguish the clusters remarkably while others may not tell you much. At this point, if you don’t find clear distinguishing patterns, perhaps re-running the clustering model with different numbers of clusters and revising the features you picked would be a good idea. </p>\n",
    "\n",
    "</div>\n"
   ]
  }
 ],
 "metadata": {
  "kernelspec": {
   "display_name": "Python 3",
   "language": "python",
   "name": "python3"
  },
  "language_info": {
   "codemirror_mode": {
    "name": "ipython",
    "version": 3
   },
   "file_extension": ".py",
   "mimetype": "text/x-python",
   "name": "python",
   "nbconvert_exporter": "python",
   "pygments_lexer": "ipython3",
   "version": "3.5.6"
  }
 },
 "nbformat": 4,
 "nbformat_minor": 1
}
