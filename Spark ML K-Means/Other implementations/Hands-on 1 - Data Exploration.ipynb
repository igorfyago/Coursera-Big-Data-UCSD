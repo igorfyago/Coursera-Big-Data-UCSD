{
 "cells": [
  {
   "cell_type": "code",
   "execution_count": 1,
   "metadata": {
    "collapsed": false
   },
   "outputs": [],
   "source": [
    "from pyspark.sql import SQLContext\n",
    "from pyspark.sql import DataFrameNaFunctions\n",
    "import pandas as pd\n",
    "from pyspark.ml import Pipeline"
   ]
  },
  {
   "cell_type": "code",
   "execution_count": 2,
   "metadata": {
    "collapsed": false
   },
   "outputs": [],
   "source": [
    "sqlContext = SQLContext(sc)"
   ]
  },
  {
   "cell_type": "code",
   "execution_count": 3,
   "metadata": {
    "collapsed": false
   },
   "outputs": [],
   "source": [
    "dataDF = sqlContext.read.load('file:///home/cloudera/coursera/courseraDataSimulation/course4-ML/daily_weather.csv', \n",
    "                          format='com.databricks.spark.csv', \n",
    "                          header='true',inferSchema='true')"
   ]
  },
  {
   "cell_type": "code",
   "execution_count": 4,
   "metadata": {
    "collapsed": false
   },
   "outputs": [
    {
     "data": {
      "text/plain": [
       "['number',\n",
       " 'air_pressure_9am',\n",
       " 'air_temp_9am',\n",
       " 'avg_wind_direction_9am',\n",
       " 'avg_wind_speed_9am',\n",
       " 'max_wind_direction_9am',\n",
       " 'max_wind_speed_9am',\n",
       " 'rain_accumulation_9am',\n",
       " 'rain_duration_9am',\n",
       " 'relative_humidity_9am',\n",
       " 'relative_humidity_3pm']"
      ]
     },
     "execution_count": 4,
     "metadata": {},
     "output_type": "execute_result"
    }
   ],
   "source": [
    "dataDF.columns"
   ]
  },
  {
   "cell_type": "code",
   "execution_count": 5,
   "metadata": {
    "collapsed": false
   },
   "outputs": [
    {
     "name": "stdout",
     "output_type": "stream",
     "text": [
      "+-------+------------------+------------------+------------------+----------------------+------------------+----------------------+------------------+---------------------+-----------------+---------------------+---------------------+\n",
      "|summary|            number|  air_pressure_9am|      air_temp_9am|avg_wind_direction_9am|avg_wind_speed_9am|max_wind_direction_9am|max_wind_speed_9am|rain_accumulation_9am|rain_duration_9am|relative_humidity_9am|relative_humidity_3pm|\n",
      "+-------+------------------+------------------+------------------+----------------------+------------------+----------------------+------------------+---------------------+-----------------+---------------------+---------------------+\n",
      "|  count|              1095|              1092|              1090|                  1091|              1092|                  1092|              1091|                 1089|             1092|                 1095|                 1095|\n",
      "|   mean|             547.0| 918.8825513138097| 64.93300141287075|    142.23551070057584|  5.50828424225493|     148.9535179651692| 7.019513529175272|  0.20307895225211126|294.1080522756142|    34.24140205923539|    35.34472714825902|\n",
      "| stddev|316.24357700987383|3.1841611803868353|11.175514003175877|     69.13785928889183| 4.552813465531715|     67.23801294602951|  5.59820917078096|   1.5939521253574904|1598.078778660148|   25.472066802250044|    22.52407945358728|\n",
      "|    min|                 0| 907.9900000000024|36.752000000000685|    15.500000000000046|  0.69345139999974|     28.89999999999991|1.1855782000000479|                  0.0|              0.0|    6.090000000001012|   5.3000000000006855|\n",
      "|    max|              1094| 929.3200000000012| 98.90599999999992|                 343.4|23.554978199999763|    312.19999999999993| 29.84077959999996|    24.01999999999907|          17704.0|     92.6200000000002|     92.2500000000003|\n",
      "+-------+------------------+------------------+------------------+----------------------+------------------+----------------------+------------------+---------------------+-----------------+---------------------+---------------------+\n",
      "\n"
     ]
    }
   ],
   "source": [
    "dataDF.describe().show()"
   ]
  },
  {
   "cell_type": "code",
   "execution_count": 6,
   "metadata": {
    "collapsed": false
   },
   "outputs": [
    {
     "data": {
      "text/plain": [
       "['air_pressure_9am',\n",
       " 'air_temp_9am',\n",
       " 'avg_wind_direction_9am',\n",
       " 'avg_wind_speed_9am',\n",
       " 'max_wind_direction_9am',\n",
       " 'max_wind_speed_9am',\n",
       " 'rain_accumulation_9am',\n",
       " 'rain_duration_9am',\n",
       " 'relative_humidity_9am',\n",
       " 'relative_humidity_3pm']"
      ]
     },
     "execution_count": 6,
     "metadata": {},
     "output_type": "execute_result"
    }
   ],
   "source": [
    "dataDF = dataDF.drop('number') # row number\n",
    "dataDF.columns"
   ]
  },
  {
   "cell_type": "markdown",
   "metadata": {},
   "source": [
    "# Hands On 1: Data Exploration"
   ]
  },
  {
   "cell_type": "code",
   "execution_count": 7,
   "metadata": {
    "collapsed": false
   },
   "outputs": [
    {
     "data": {
      "text/plain": [
       "[Row(air_pressure_9am=918.0600000000087, air_temp_9am=74.82200000000041, avg_wind_direction_9am=271.1, avg_wind_speed_9am=2.080354199999768, max_wind_direction_9am=295.39999999999986, max_wind_speed_9am=2.863283199999908, rain_accumulation_9am=0.0, rain_duration_9am=0.0, relative_humidity_9am=42.42000000000046, relative_humidity_3pm=36.160000000000494),\n",
       " Row(air_pressure_9am=917.3476881177097, air_temp_9am=71.40384263106537, avg_wind_direction_9am=101.93517935618371, avg_wind_speed_9am=2.4430092157340217, max_wind_direction_9am=140.47154847112498, max_wind_speed_9am=3.5333236016106238, rain_accumulation_9am=0.0, rain_duration_9am=0.0, relative_humidity_9am=24.328697291802207, relative_humidity_3pm=19.4265967985621)]"
      ]
     },
     "execution_count": 7,
     "metadata": {},
     "output_type": "execute_result"
    }
   ],
   "source": [
    "# Displat first few lines\n",
    "dataDF.take(2)"
   ]
  },
  {
   "cell_type": "markdown",
   "metadata": {},
   "source": [
    "### Summary Statistics"
   ]
  },
  {
   "cell_type": "code",
   "execution_count": 8,
   "metadata": {
    "collapsed": false
   },
   "outputs": [
    {
     "data": {
      "text/plain": [
       "10"
      ]
     },
     "execution_count": 8,
     "metadata": {},
     "output_type": "execute_result"
    }
   ],
   "source": [
    "#Columns in DataFrame\n",
    "len(dataDF.columns)"
   ]
  },
  {
   "cell_type": "code",
   "execution_count": 9,
   "metadata": {
    "collapsed": false
   },
   "outputs": [
    {
     "data": {
      "text/plain": [
       "1095"
      ]
     },
     "execution_count": 9,
     "metadata": {},
     "output_type": "execute_result"
    }
   ],
   "source": [
    "#Rows in DataFrame\n",
    "dataDF.count()"
   ]
  },
  {
   "cell_type": "code",
   "execution_count": 10,
   "metadata": {
    "collapsed": false
   },
   "outputs": [
    {
     "name": "stdout",
     "output_type": "stream",
     "text": [
      "+-------+------------------+\n",
      "|summary|  air_pressure_9am|\n",
      "+-------+------------------+\n",
      "|  count|              1092|\n",
      "|   mean| 918.8825513138097|\n",
      "| stddev|3.1841611803868353|\n",
      "|    min| 907.9900000000024|\n",
      "|    max| 929.3200000000012|\n",
      "+-------+------------------+\n",
      "\n"
     ]
    }
   ],
   "source": [
    "# Show summary of one column\n",
    "dataDF.describe(\"air_pressure_9am\").show()\n",
    "\n",
    "#Notice the Nan"
   ]
  },
  {
   "cell_type": "code",
   "execution_count": 11,
   "metadata": {
    "collapsed": false
   },
   "outputs": [
    {
     "name": "stdout",
     "output_type": "stream",
     "text": [
      "+-------+------------------+------------------+----------------------+------------------+----------------------+------------------+---------------------+------------------+---------------------+---------------------+\n",
      "|summary|  air_pressure_9am|      air_temp_9am|avg_wind_direction_9am|avg_wind_speed_9am|max_wind_direction_9am|max_wind_speed_9am|rain_accumulation_9am| rain_duration_9am|relative_humidity_9am|relative_humidity_3pm|\n",
      "+-------+------------------+------------------+----------------------+------------------+----------------------+------------------+---------------------+------------------+---------------------+---------------------+\n",
      "|  count|              1092|              1087|                  1088|              1089|                  1089|              1088|                 1086|              1089|                 1092|                 1092|\n",
      "|   mean| 918.8825513138097| 64.96896753146554|    142.09831025625775| 5.504611894676135|    148.78720908602853| 7.014192386313907|   0.1901712513835628| 287.6593141276132|    34.15998889141952|   35.275723107411714|\n",
      "| stddev|3.1841611803868353|11.154041196475662|     69.02469150362704| 4.552881618783327|     67.08031638353745|  5.59572181056437|   1.5348338139622255|1583.8583451927343|   25.403805324173728|   22.463394908910807|\n",
      "|    min| 907.9900000000024|36.752000000000685|    15.500000000000046|  0.69345139999974|     28.89999999999991|1.1855782000000479|                  0.0|               0.0|    6.090000000001012|   5.3000000000006855|\n",
      "|    max| 929.3200000000012| 98.90599999999992|                 343.4|23.554978199999763|    312.19999999999993| 29.84077959999996|    24.01999999999907|           17704.0|     92.6200000000002|     92.2500000000003|\n",
      "+-------+------------------+------------------+----------------------+------------------+----------------------+------------------+---------------------+------------------+---------------------+---------------------+\n",
      "\n"
     ]
    }
   ],
   "source": [
    "# Drop the rows with missing values on specific column and show statistics\n",
    "M = dataDF.na.drop(subset=['air_pressure_9am'])\n",
    "\n",
    "M.describe().show()"
   ]
  },
  {
   "cell_type": "code",
   "execution_count": 12,
   "metadata": {
    "collapsed": false
   },
   "outputs": [
    {
     "name": "stdout",
     "output_type": "stream",
     "text": [
      "+-------+------------------+\n",
      "|summary|  air_pressure_9am|\n",
      "+-------+------------------+\n",
      "|  count|              1092|\n",
      "|   mean| 918.8825513138097|\n",
      "| stddev|3.1841611803868353|\n",
      "|    min| 907.9900000000024|\n",
      "|    max| 929.3200000000012|\n",
      "+-------+------------------+\n",
      "\n"
     ]
    }
   ],
   "source": [
    "# Drop the rows with missing values and check statistics\n",
    "M.describe(\"air_pressure_9am\").show()"
   ]
  },
  {
   "cell_type": "markdown",
   "metadata": {},
   "source": [
    "# Pairwise Correlation"
   ]
  },
  {
   "cell_type": "code",
   "execution_count": 15,
   "metadata": {
    "collapsed": false
   },
   "outputs": [
    {
     "data": {
      "text/plain": [
       "0.7337968783310981"
      ]
     },
     "execution_count": 15,
     "metadata": {},
     "output_type": "execute_result"
    }
   ],
   "source": [
    "# Correlation between two columns\n",
    "dataDF.stat.corr(\"rain_accumulation_9am\",\"rain_duration_9am\")"
   ]
  },
  {
   "cell_type": "code",
   "execution_count": null,
   "metadata": {
    "collapsed": true
   },
   "outputs": [],
   "source": []
  }
 ],
 "metadata": {
  "kernelspec": {
   "display_name": "Python 2",
   "language": "python",
   "name": "python2"
  },
  "language_info": {
   "codemirror_mode": {
    "name": "ipython",
    "version": 2
   },
   "file_extension": ".py",
   "mimetype": "text/x-python",
   "name": "python",
   "nbconvert_exporter": "python",
   "pygments_lexer": "ipython2",
   "version": "2.7.11"
  }
 },
 "nbformat": 4,
 "nbformat_minor": 0
}
